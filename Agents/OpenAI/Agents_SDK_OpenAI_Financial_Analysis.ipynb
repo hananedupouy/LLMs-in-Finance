{
  "nbformat": 4,
  "nbformat_minor": 0,
  "metadata": {
    "colab": {
      "provenance": [],
      "toc_visible": true
    },
    "kernelspec": {
      "name": "python3",
      "display_name": "Python 3"
    },
    "language_info": {
      "name": "python"
    }
  },
  "cells": [
    {
      "cell_type": "markdown",
      "source": [
        "# Discover how to use the Agents SDK framework from OpenAI for financial analysis\n",
        "\n",
        "OpenAI recently released this new feature to help developers orchestrate multi-agent workflows, offering significant improvements over Swarm, the experimental agent SDK introduced last year.\n",
        "\n",
        "This new SDK comes with some improvements that include:\n",
        "\n",
        "- Agents: Easily configurable LLMs with clear instructions and built-in tools. The built-in tools include: web search, file search and computer use.\n",
        "- Handoffs: Intelligently transfer control between agents. In Swarm, you had to explicitly define methods to transfer control between agents...\n",
        "- Guardrails: Configurable safety checks for input and output validation.\n",
        "- Tracing & Observability: Visualize agent execution traces to debug and optimize performance. You have access to all \"Logs\" and \"Traces\" of your agent in your OpenAI Dashboard, which gives a clear overview of which agent was called and the intermediate responses.\n",
        "\n",
        "\n",
        "## Use case:\n",
        "Retrieve financial information for a given stock or multiple stocks from multiple API endpoints, all in one place.\"\n",
        "\n",
        "\n",
        "## Multi-agent framework:\n",
        "\n",
        "See hereafter the details: ⏬\n",
        "\n",
        "\n",
        "\n",
        "\n",
        "\n",
        "\n",
        "## Key Takeaways:  \n",
        "- **Clear Design**: More straightforward to build compared to Swarm.  \n",
        "- **Enhanced Capabilities:** Supports built-in functions for greater flexibility (Even though I didn't use them in this notebook, they can be highly useful for tasks like web searching or reading a PDF file.).  \n",
        "- **Traces and Logs (Accessible via Dashboard)**: Provides a comprehensive record of events during agent execution, aiding in debugging, visualization, and workflow monitoring."
      ],
      "metadata": {
        "id": "rPH2Fc28JM2R"
      }
    },
    {
      "cell_type": "code",
      "execution_count": null,
      "metadata": {
        "id": "_UINrfTBeQk5"
      },
      "outputs": [],
      "source": [
        "!pip install openai-agents -q"
      ]
    },
    {
      "cell_type": "code",
      "source": [
        "from google.colab import userdata\n",
        "OPENAI_API_KEY = userdata.get('OPENAI_API_KEY')\n",
        "\n",
        "import os\n",
        "os.environ[\"OPENAI_API_KEY\"] = OPENAI_API_KEY\n",
        "\n",
        "import requests\n",
        "\n",
        "FINANCIAL_MODELING_PREP_API_KEY = userdata.get('FINANCIAL_MODELING_PREP_API_KEY')"
      ],
      "metadata": {
        "id": "AGLDe3F3fBd1"
      },
      "execution_count": null,
      "outputs": []
    },
    {
      "cell_type": "code",
      "source": [
        "from agents import Agent, Runner, function_tool\n",
        "import nest_asyncio\n",
        "nest_asyncio.apply()"
      ],
      "metadata": {
        "id": "IzTrU10afPtd"
      },
      "execution_count": null,
      "outputs": []
    },
    {
      "cell_type": "markdown",
      "source": [
        "# **Tools**"
      ],
      "metadata": {
        "id": "vu57pN7MH1jq"
      }
    },
    {
      "cell_type": "code",
      "source": [
        "@function_tool\n",
        "def get_stock_price(symbol: str) -> dict():\n",
        "    \"\"\"\n",
        "    Fetch the current stock price for the given symbol, the current volume, the average price 50d and 200d, EPS, PE and the next earnings Announcement.\n",
        "    \"\"\"\n",
        "    url = f\"https://financialmodelingprep.com/api/v3/quote-order/{symbol}?apikey={FINANCIAL_MODELING_PREP_API_KEY}\"\n",
        "    response = requests.get(url)\n",
        "    data = response.json()\n",
        "    try:\n",
        "        price = data[0]['price']\n",
        "        volume = data[0]['volume']\n",
        "        priceAvg50 = data[0]['priceAvg50']\n",
        "        priceAvg200 = data[0]['priceAvg200']\n",
        "        eps = data[0]['eps']\n",
        "        pe = data[0]['pe']\n",
        "        earningsAnnouncement = data[0]['earningsAnnouncement']\n",
        "        return {\"symbol\": symbol.upper(), \"price\": price, \"volume\":volume,\"priceAvg50\":priceAvg50, \"priceAvg200\":priceAvg200, \"EPS\":eps, \"PE\":pe, \"earningsAnnouncement\":earningsAnnouncement }\n",
        "    except (IndexError, KeyError):\n",
        "        return {\"error\": f\"Could not fetch price for symbol: {symbol}\"}\n",
        "\n",
        "@function_tool\n",
        "def get_company_financials(symbol: str) -> dict():\n",
        "    \"\"\"\n",
        "    Fetch basic financial information for the given company symbol such as the industry, the sector, the name of the company, and the market capitalization.\n",
        "    \"\"\"\n",
        "    url = f\"https://financialmodelingprep.com/api/v3/profile/{symbol}?apikey={FINANCIAL_MODELING_PREP_API_KEY}\"\n",
        "    response = requests.get(url)\n",
        "    data = response.json()\n",
        "    try:\n",
        "        results = data[0]\n",
        "        financials = {\n",
        "            \"symbol\": results[\"symbol\"],\n",
        "            \"companyName\": results[\"companyName\"],\n",
        "            \"marketCap\": results[\"mktCap\"],\n",
        "            \"industry\": results[\"industry\"],\n",
        "            \"sector\": results[\"sector\"],\n",
        "            \"website\": results[\"website\"],\n",
        "            \"beta\":results[\"beta\"],\n",
        "            \"price\":results[\"price\"],\n",
        "        }\n",
        "        return {'financials': financials}\n",
        "    except (IndexError, KeyError):\n",
        "        return {\"error\": f\"Could not fetch financials for symbol: {symbol}\"}\n",
        "\n",
        "@function_tool\n",
        "def get_income_statement(symbol : str) -> dict():\n",
        "    \"\"\"\n",
        "    Fetch last income statement for the given company symbol such as revenue, gross profit, net income, EBITDA, EPS.\n",
        "    \"\"\"\n",
        "    url = f\"https://financialmodelingprep.com/api/v3/income-statement/{symbol}?period=annual&apikey={FINANCIAL_MODELING_PREP_API_KEY}\"\n",
        "    response = requests.get(url)\n",
        "    data = response.json()\n",
        "    try:\n",
        "        results = data[0]\n",
        "        financials = {\n",
        "            \"date\": results[\"date\"],\n",
        "            \"revenue\": results[\"revenue\"],\n",
        "            \"gross profit\": results[\"grossProfit\"],\n",
        "            \"net Income\": results[\"netIncome\"],\n",
        "            \"ebitda\": results[\"ebitda\"],\n",
        "            \"EPS\": results[\"eps\"],\n",
        "            \"EPS diluted\":results[\"epsdiluted\"]\n",
        "        }\n",
        "        return {'financials': financials}\n",
        "    except (IndexError, KeyError):\n",
        "        return {\"error\": f\"Could not fetch financials for symbol: {symbol}\"}"
      ],
      "metadata": {
        "id": "JN1fnGESfZxL"
      },
      "execution_count": null,
      "outputs": []
    },
    {
      "cell_type": "markdown",
      "source": [
        "# **Multi-Agent Framework**"
      ],
      "metadata": {
        "id": "3afcJ2lmH6tx"
      }
    },
    {
      "cell_type": "markdown",
      "source": [
        "\n",
        "**I created 4 agents:**\n",
        "\n",
        "-  **stock_price_agent**: This agent is responsible of fetching the last available price, volume, average price 50d, 200d, EPS, PE, and the next earnings annoucement.\n",
        "\n",
        "-  **company_basic_information_agent**: This agent is responsible of collecting the company basic data like description market capitalization, sector, industry...\n",
        "\n",
        "-  **income_statement_agent**: This agent is responsible of gathering the last income statement data such as revenue, gross profit, net income, EBITDA, EPS.\n",
        "\n",
        "-  **manager_agent**: This agent will handle determning and switching between agents to transfer the user's request to the best suited agent.\n",
        "\n",
        "\n",
        "**Description and Tools:**\n",
        "\n",
        "For each agent, I assigned a name, provided a description, specified a tool if needed, and defined handoff agents where necessary.  \n",
        "\n",
        "I did not use built-in tools; instead, I implemented custom functions for financial analysis."
      ],
      "metadata": {
        "id": "U9eWEj_qJpAu"
      }
    },
    {
      "cell_type": "markdown",
      "source": [
        "By default the model called is gpt-4o-2024-08-06"
      ],
      "metadata": {
        "id": "HPc6zMicIBLh"
      }
    },
    {
      "cell_type": "code",
      "source": [
        "# MODEL = \"gpt-4o\"\n",
        "stock_price_agent = Agent(\n",
        "    name=\"Stock Price Agent\",\n",
        "    instructions=\"Fetch Historical prices for a given stock symbol, the current volume, the average price 50d and 200d, EPS, PE and the next earnings Announcement.\",\n",
        "    # model = MODEL\n",
        "    tools=[get_stock_price],\n",
        ")\n",
        "\n",
        "company_basic_information_agent = Agent(\n",
        "    name=\"Company basic information Agent\",\n",
        "    instructions=\"Fetch basic financial information for the given company symbol such as the industry, the sector, the name of the company, and the market capitalization.\",\n",
        "    tools=[get_company_financials],\n",
        ")\n",
        "\n",
        "income_statement_agent = Agent(\n",
        "    name=\"Income Statement Agent\",\n",
        "    instructions=\"Fetch last income statement for the given company symbol such as revenue, gross profit, net income, EBITDA, EPS.\",\n",
        "    tools=[get_income_statement],\n",
        ")\n",
        "\n",
        "manager_agent = Agent(\n",
        "    name=\"Manager Agent\",\n",
        "    instructions=\"Determine which agent is best suited to handle the user's request, and transfer the conversation to that agent.\",\n",
        "    handoffs=[stock_price_agent, company_basic_information_agent, income_statement_agent]\n",
        ")"
      ],
      "metadata": {
        "id": "Q2Ay1bw5fmui"
      },
      "execution_count": null,
      "outputs": []
    },
    {
      "cell_type": "markdown",
      "source": [
        "# First Call"
      ],
      "metadata": {
        "id": "kydpsh9-IKBa"
      }
    },
    {
      "cell_type": "code",
      "source": [
        "output = Runner.run_sync(\n",
        "    starting_agent=manager_agent,\n",
        "    input=\"What is the current stock price of Amazon and Nvidia?\",\n",
        ")"
      ],
      "metadata": {
        "id": "GMEO72QKH-U1"
      },
      "execution_count": null,
      "outputs": []
    },
    {
      "cell_type": "code",
      "source": [
        "print(output.final_output)"
      ],
      "metadata": {
        "colab": {
          "base_uri": "https://localhost:8080/"
        },
        "id": "Df1goA948h_U",
        "outputId": "8292e064-8e69-4931-8fa0-f017645fdedc"
      },
      "execution_count": null,
      "outputs": [
        {
          "output_type": "stream",
          "name": "stdout",
          "text": [
            "Here are the current stock details:\n",
            "\n",
            "**Amazon (AMZN):**\n",
            "- Current Price: $197.95\n",
            "- Volume: 36,633,353\n",
            "- Average Price (50 days): $221.40\n",
            "- Average Price (200 days): $199.38\n",
            "- EPS: $5.52\n",
            "- PE Ratio: 35.86\n",
            "- Next Earnings Announcement: April 28, 2025\n",
            "\n",
            "**Nvidia (NVDA):**\n",
            "- Current Price: $121.67\n",
            "- Volume: 274,061,576\n",
            "- Average Price (50 days): $129.30\n",
            "- Average Price (200 days): $127.64\n",
            "- EPS: $2.94\n",
            "- PE Ratio: 41.38\n",
            "- Next Earnings Announcement: May 28, 2025\n"
          ]
        }
      ]
    },
    {
      "cell_type": "code",
      "source": [
        "from agents import items"
      ],
      "metadata": {
        "id": "vsrrBMzFseUD"
      },
      "execution_count": null,
      "outputs": []
    },
    {
      "cell_type": "markdown",
      "source": [
        "## **Debugging intermediate steps**"
      ],
      "metadata": {
        "id": "FoUSmxoUIQhM"
      }
    },
    {
      "cell_type": "markdown",
      "source": [
        "By accessing the detailed output from OpenAI, you can view the intermediate steps, including which agent was selected by the `manager_agent`, which tool was used, the intermediate outputs, and the final result.  \n",
        "\n",
        "This information is also available in a well-organized format directly in your OpenAI **dashboard** under **Logs** and **Traces**."
      ],
      "metadata": {
        "id": "tsEVnVsZJ5lG"
      }
    },
    {
      "cell_type": "code",
      "source": [
        "for item in output.new_items[:]:\n",
        "  # print(item)\n",
        "  if type(item) == items.HandoffCallItem:\n",
        "    print(\"HandoffCallItem\")\n",
        "    print(item.agent.name)\n",
        "    print(item.agent.instructions)\n",
        "    print(item.raw_item.name)\n",
        "\n",
        "  if type(item) == items.MessageOutputItem:\n",
        "    print(\"MessageOutputItem\")\n",
        "    print(item.raw_item.content[0].text)\n",
        "\n",
        "  if type(item) == items.ToolCallItem:\n",
        "    print(\"ToolCallItem\")\n",
        "    print(item.agent.name)\n",
        "\n",
        "\n",
        "  if type(item) == items.ToolCallOutputItem or type(item) == items.HandoffOutputItem:\n",
        "    print(\"ToolCallOutputItem or HandoffOutputItem\")\n",
        "    print(item.raw_item['output'])\n",
        "  print(\"\\n\\n\")\n"
      ],
      "metadata": {
        "colab": {
          "base_uri": "https://localhost:8080/"
        },
        "id": "hSoU3u00k--L",
        "outputId": "3eeed710-a2d4-45fd-fcb1-c86d0fef709d"
      },
      "execution_count": null,
      "outputs": [
        {
          "output_type": "stream",
          "name": "stdout",
          "text": [
            "HandoffCallItem\n",
            "Manager Agent\n",
            "Determine which agent is best suited to handle the user's request, and transfer the conversation to that agent.\n",
            "transfer_to_stock_price_agent\n",
            "\n",
            "\n",
            "\n",
            "HandoffCallItem\n",
            "Manager Agent\n",
            "Determine which agent is best suited to handle the user's request, and transfer the conversation to that agent.\n",
            "transfer_to_stock_price_agent\n",
            "\n",
            "\n",
            "\n",
            "ToolCallOutputItem or HandoffOutputItem\n",
            "Multiple handoffs detected, ignoring this one.\n",
            "\n",
            "\n",
            "\n",
            "ToolCallOutputItem or HandoffOutputItem\n",
            "{'assistant': 'Stock Price Agent'}\n",
            "\n",
            "\n",
            "\n",
            "ToolCallItem\n",
            "Stock Price Agent\n",
            "\n",
            "\n",
            "\n",
            "ToolCallItem\n",
            "Stock Price Agent\n",
            "\n",
            "\n",
            "\n",
            "ToolCallOutputItem or HandoffOutputItem\n",
            "{'symbol': 'AMZN', 'price': 197.95, 'volume': 36633353, 'priceAvg50': 221.3966, 'priceAvg200': 199.38335, 'EPS': 5.52, 'PE': 35.86, 'earningsAnnouncement': '2025-04-28T10:59:00.000+0000'}\n",
            "\n",
            "\n",
            "\n",
            "ToolCallOutputItem or HandoffOutputItem\n",
            "{'symbol': 'NVDA', 'price': 121.67, 'volume': 274061576, 'priceAvg50': 129.2964, 'priceAvg200': 127.63886, 'EPS': 2.94, 'PE': 41.38, 'earningsAnnouncement': '2025-05-28T04:00:00.000+0000'}\n",
            "\n",
            "\n",
            "\n",
            "MessageOutputItem\n",
            "Here are the current stock details:\n",
            "\n",
            "**Amazon (AMZN):**\n",
            "- Current Price: $197.95\n",
            "- Volume: 36,633,353\n",
            "- Average Price (50 days): $221.40\n",
            "- Average Price (200 days): $199.38\n",
            "- EPS: $5.52\n",
            "- PE Ratio: 35.86\n",
            "- Next Earnings Announcement: April 28, 2025\n",
            "\n",
            "**Nvidia (NVDA):**\n",
            "- Current Price: $121.67\n",
            "- Volume: 274,061,576\n",
            "- Average Price (50 days): $129.30\n",
            "- Average Price (200 days): $127.64\n",
            "- EPS: $2.94\n",
            "- PE Ratio: 41.38\n",
            "- Next Earnings Announcement: May 28, 2025\n",
            "\n",
            "\n",
            "\n"
          ]
        }
      ]
    },
    {
      "cell_type": "markdown",
      "source": [
        "# **Second Call**"
      ],
      "metadata": {
        "id": "BJvuJa8-IW0T"
      }
    },
    {
      "cell_type": "markdown",
      "source": [
        "It does not handle memory for now, unlike Assistants AI where you can use Thread to memorize chat history... OpenAI is planning to develop all Assistant AI features in Responses API (which can be used in Agents SDK), so they can deprecate Assistant AI by mid-2026.\n"
      ],
      "metadata": {
        "id": "00YnPeXDIsTe"
      }
    },
    {
      "cell_type": "code",
      "source": [
        "%%time\n",
        "output = Runner.run_sync(\n",
        "    starting_agent=manager_agent,\n",
        "    input=\"What is their market capitalization?\",\n",
        ")\n",
        "print(output.final_output)"
      ],
      "metadata": {
        "colab": {
          "base_uri": "https://localhost:8080/"
        },
        "id": "voGEHYm4jBvu",
        "outputId": "88ad5431-b2d0-4520-eefb-efb8f47c5e9c"
      },
      "execution_count": null,
      "outputs": [
        {
          "output_type": "stream",
          "name": "stdout",
          "text": [
            "Could you please provide the company's name or symbol so I can retrieve the market capitalization for you?\n",
            "CPU times: user 49.7 ms, sys: 1.87 ms, total: 51.5 ms\n",
            "Wall time: 1.73 s\n"
          ]
        }
      ]
    },
    {
      "cell_type": "markdown",
      "source": [
        "# **Third Call**"
      ],
      "metadata": {
        "id": "GCwl1vboIda8"
      }
    },
    {
      "cell_type": "code",
      "source": [
        "%%time\n",
        "output = Runner.run_sync(\n",
        "    starting_agent=manager_agent,\n",
        "    input=\"What is the market capitalization of Amazon and Nvidia?\",\n",
        ")\n",
        "print(output.final_output)"
      ],
      "metadata": {
        "colab": {
          "base_uri": "https://localhost:8080/"
        },
        "id": "zsAbMrTrAU8r",
        "outputId": "85b95d8e-2540-41c2-8b24-b0e9ef93d138"
      },
      "execution_count": null,
      "outputs": [
        {
          "output_type": "stream",
          "name": "stdout",
          "text": [
            "Here is the market capitalization for the companies you requested:\n",
            "\n",
            "1. **Amazon.com, Inc. (AMZN)**\n",
            "   - Market Capitalization: $2.10 trillion\n",
            "   - Industry: Specialty Retail\n",
            "   - Sector: Consumer Cyclical\n",
            "   - [Website](https://www.amazon.com)\n",
            "\n",
            "2. **NVIDIA Corporation (NVDA)**\n",
            "   - Market Capitalization: $2.97 trillion\n",
            "   - Industry: Semiconductors\n",
            "   - Sector: Technology\n",
            "   - [Website](https://www.nvidia.com)\n",
            "CPU times: user 133 ms, sys: 12.8 ms, total: 145 ms\n",
            "Wall time: 6.28 s\n"
          ]
        }
      ]
    },
    {
      "cell_type": "markdown",
      "source": [
        "## **Debugging intermediate steps**"
      ],
      "metadata": {
        "id": "IdbTchrdIgmk"
      }
    },
    {
      "cell_type": "code",
      "source": [
        "for item in output.new_items[:]:\n",
        "  # print(item)\n",
        "  if type(item) == items.HandoffCallItem:\n",
        "    print(\"HandoffCallItem\")\n",
        "    print(item.agent.name)\n",
        "    print(item.agent.instructions)\n",
        "    print(item.raw_item.name)\n",
        "\n",
        "  if type(item) == items.MessageOutputItem:\n",
        "    print(\"MessageOutputItem\")\n",
        "    print(item.raw_item.content[0].text)\n",
        "\n",
        "  if type(item) == items.ToolCallItem:\n",
        "    print(\"ToolCallItem\")\n",
        "    print(item.agent.name)\n",
        "\n",
        "\n",
        "  if type(item) == items.ToolCallOutputItem or type(item) == items.HandoffOutputItem:\n",
        "    print(\"ToolCallOutputItem or HandoffOutputItem\")\n",
        "    print(item.raw_item['output'])\n",
        "  print(\"\\n\\n\")\n"
      ],
      "metadata": {
        "colab": {
          "base_uri": "https://localhost:8080/"
        },
        "id": "Phxu5rzvAl5-",
        "outputId": "80d0718b-4029-4496-fa2d-fffa00d270e0"
      },
      "execution_count": null,
      "outputs": [
        {
          "output_type": "stream",
          "name": "stdout",
          "text": [
            "HandoffCallItem\n",
            "Manager Agent\n",
            "Determine which agent is best suited to handle the user's request, and transfer the conversation to that agent.\n",
            "transfer_to_company_basic_information_agent\n",
            "\n",
            "\n",
            "\n",
            "HandoffCallItem\n",
            "Manager Agent\n",
            "Determine which agent is best suited to handle the user's request, and transfer the conversation to that agent.\n",
            "transfer_to_company_basic_information_agent\n",
            "\n",
            "\n",
            "\n",
            "ToolCallOutputItem or HandoffOutputItem\n",
            "Multiple handoffs detected, ignoring this one.\n",
            "\n",
            "\n",
            "\n",
            "ToolCallOutputItem or HandoffOutputItem\n",
            "{'assistant': 'Company basic information Agent'}\n",
            "\n",
            "\n",
            "\n",
            "ToolCallItem\n",
            "Company basic information Agent\n",
            "\n",
            "\n",
            "\n",
            "ToolCallItem\n",
            "Company basic information Agent\n",
            "\n",
            "\n",
            "\n",
            "ToolCallOutputItem or HandoffOutputItem\n",
            "{'symbol': 'AMZN', 'companyName': 'Amazon.com, Inc.', 'marketCap': 2097814715000, 'industry': 'Specialty Retail', 'sector': 'Consumer Cyclical', 'website': 'https://www.amazon.com', 'beta': 1.192, 'price': 197.95}\n",
            "\n",
            "\n",
            "\n",
            "ToolCallOutputItem or HandoffOutputItem\n",
            "{'symbol': 'NVDA', 'companyName': 'NVIDIA Corporation', 'marketCap': 2968748000000, 'industry': 'Semiconductors', 'sector': 'Technology', 'website': 'https://www.nvidia.com', 'beta': 1.765, 'price': 121.67}\n",
            "\n",
            "\n",
            "\n",
            "MessageOutputItem\n",
            "Here is the market capitalization for the companies you requested:\n",
            "\n",
            "1. **Amazon.com, Inc. (AMZN)**\n",
            "   - Market Capitalization: $2.10 trillion\n",
            "   - Industry: Specialty Retail\n",
            "   - Sector: Consumer Cyclical\n",
            "   - [Website](https://www.amazon.com)\n",
            "\n",
            "2. **NVIDIA Corporation (NVDA)**\n",
            "   - Market Capitalization: $2.97 trillion\n",
            "   - Industry: Semiconductors\n",
            "   - Sector: Technology\n",
            "   - [Website](https://www.nvidia.com)\n",
            "\n",
            "\n",
            "\n"
          ]
        }
      ]
    },
    {
      "cell_type": "markdown",
      "source": [
        "# **Fourth Call**"
      ],
      "metadata": {
        "id": "9O_HemtQIiql"
      }
    },
    {
      "cell_type": "code",
      "source": [
        "%%time\n",
        "output = Runner.run_sync(\n",
        "    starting_agent=manager_agent,\n",
        "    input=\"What is the last revenue of Nvidia?\",\n",
        ")\n",
        "print(output.final_output)"
      ],
      "metadata": {
        "colab": {
          "base_uri": "https://localhost:8080/"
        },
        "id": "pmNHT4fpBQTD",
        "outputId": "697b0b6f-b142-4bc9-8401-7d28e670d495"
      },
      "execution_count": null,
      "outputs": [
        {
          "output_type": "stream",
          "name": "stdout",
          "text": [
            "Nvidia's last reported revenue is $130.497 billion.\n",
            "CPU times: user 84.9 ms, sys: 6.15 ms, total: 91.1 ms\n",
            "Wall time: 2.98 s\n"
          ]
        }
      ]
    },
    {
      "cell_type": "markdown",
      "source": [
        "## **Debugging intermediate steps**"
      ],
      "metadata": {
        "id": "cChCq45GImP9"
      }
    },
    {
      "cell_type": "code",
      "source": [
        "for item in output.new_items[:]:\n",
        "  # print(item)\n",
        "  if type(item) == items.HandoffCallItem:\n",
        "    print(\"HandoffCallItem\")\n",
        "    print(item.agent.name)\n",
        "    print(item.agent.instructions)\n",
        "    print(item.raw_item.name)\n",
        "\n",
        "  if type(item) == items.MessageOutputItem:\n",
        "    print(\"MessageOutputItem\")\n",
        "    print(item.raw_item.content[0].text)\n",
        "\n",
        "  if type(item) == items.ToolCallItem:\n",
        "    print(\"ToolCallItem\")\n",
        "    print(item.agent.name)\n",
        "\n",
        "\n",
        "  if type(item) == items.ToolCallOutputItem or type(item) == items.HandoffOutputItem:\n",
        "    print(\"ToolCallOutputItem or HandoffOutputItem\")\n",
        "    print(item.raw_item['output'])\n",
        "  print(\"\\n\\n\")\n"
      ],
      "metadata": {
        "colab": {
          "base_uri": "https://localhost:8080/"
        },
        "id": "Ga6xO--fBWqK",
        "outputId": "f887a36b-5233-49fc-b508-875602ef67d2"
      },
      "execution_count": null,
      "outputs": [
        {
          "output_type": "stream",
          "name": "stdout",
          "text": [
            "HandoffCallItem\n",
            "Manager Agent\n",
            "Determine which agent is best suited to handle the user's request, and transfer the conversation to that agent.\n",
            "transfer_to_income_statement_agent\n",
            "\n",
            "\n",
            "\n",
            "ToolCallOutputItem or HandoffOutputItem\n",
            "{'assistant': 'Income Statement Agent'}\n",
            "\n",
            "\n",
            "\n",
            "ToolCallItem\n",
            "Income Statement Agent\n",
            "\n",
            "\n",
            "\n",
            "ToolCallOutputItem or HandoffOutputItem\n",
            "{'financials': {'date': '2025-01-26', 'revenue': 130497000000, 'gross profit': 97858000000, 'net Income': 72880000000, 'ebitda': 86137000000, 'EPS': 2.97, 'EPS diluted': 2.94}}\n",
            "\n",
            "\n",
            "\n",
            "MessageOutputItem\n",
            "Nvidia's last reported revenue is $130.497 billion.\n",
            "\n",
            "\n",
            "\n"
          ]
        }
      ]
    }
  ]
}